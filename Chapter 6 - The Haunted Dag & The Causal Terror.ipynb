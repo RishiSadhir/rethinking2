{
 "cells": [
  {
   "cell_type": "code",
   "execution_count": 1,
   "metadata": {},
   "outputs": [],
   "source": [
    "import numpy as np\n",
    "import scipy.stats as stats\n",
    "import pandas as pd\n",
    "import matplotlib.pyplot as plt\n",
    "import utils as utils\n",
    "# Set my plot theme\n",
    "# See here for more detials\n",
    "# https://github.com/RishiSadhir/rethinking2/blob/master/utils/plotting.py\n",
    "#utils.set_theme()\n",
    "COLOR = \"#2A0933\""
   ]
  },
  {
   "cell_type": "code",
   "execution_count": 2,
   "metadata": {},
   "outputs": [],
   "source": [
    "import arviz as az"
   ]
  },
  {
   "cell_type": "code",
   "execution_count": 3,
   "metadata": {},
   "outputs": [],
   "source": [
    "%load_ext jupyterstan"
   ]
  },
  {
   "cell_type": "markdown",
   "metadata": {},
   "source": [
    "# 6.3 - Collider Bias\n",
    "\n",
    "`T->S<-N`\n",
    "\n",
    "When you condition on a collider, it creates statistical association between its causes. We're going to load up McElreath's simulation from rethinking to show this. We'll examine the following causal model where M is the collider:\n",
    "\n",
    "```\n",
    "H -> M <- A\n",
    "```\n",
    "\n",
    "Even though there is no association between happiness and age, conditioning on marriage will make it look like there is.\n",
    "\n",
    "**Python code 6.21 and Figure 6.4**"
   ]
  },
  {
   "cell_type": "code",
   "execution_count": 4,
   "metadata": {},
   "outputs": [
    {
     "data": {
      "text/html": [
       "<div>\n",
       "<style scoped>\n",
       "    .dataframe tbody tr th:only-of-type {\n",
       "        vertical-align: middle;\n",
       "    }\n",
       "\n",
       "    .dataframe tbody tr th {\n",
       "        vertical-align: top;\n",
       "    }\n",
       "\n",
       "    .dataframe thead th {\n",
       "        text-align: right;\n",
       "    }\n",
       "</style>\n",
       "<table border=\"1\" class=\"dataframe\">\n",
       "  <thead>\n",
       "    <tr style=\"text-align: right;\">\n",
       "      <th></th>\n",
       "      <th>age</th>\n",
       "      <th>married</th>\n",
       "      <th>happiness</th>\n",
       "    </tr>\n",
       "  </thead>\n",
       "  <tbody>\n",
       "    <tr>\n",
       "      <th>count</th>\n",
       "      <td>1300.000000</td>\n",
       "      <td>1300.000000</td>\n",
       "      <td>1.300000e+03</td>\n",
       "    </tr>\n",
       "    <tr>\n",
       "      <th>mean</th>\n",
       "      <td>33.000000</td>\n",
       "      <td>0.300769</td>\n",
       "      <td>-8.335213e-17</td>\n",
       "    </tr>\n",
       "    <tr>\n",
       "      <th>std</th>\n",
       "      <td>18.768883</td>\n",
       "      <td>0.458769</td>\n",
       "      <td>1.214421e+00</td>\n",
       "    </tr>\n",
       "    <tr>\n",
       "      <th>min</th>\n",
       "      <td>1.000000</td>\n",
       "      <td>0.000000</td>\n",
       "      <td>-2.000000e+00</td>\n",
       "    </tr>\n",
       "    <tr>\n",
       "      <th>25%</th>\n",
       "      <td>17.000000</td>\n",
       "      <td>0.000000</td>\n",
       "      <td>-1.000000e+00</td>\n",
       "    </tr>\n",
       "    <tr>\n",
       "      <th>50%</th>\n",
       "      <td>33.000000</td>\n",
       "      <td>0.000000</td>\n",
       "      <td>-1.110223e-16</td>\n",
       "    </tr>\n",
       "    <tr>\n",
       "      <th>75%</th>\n",
       "      <td>49.000000</td>\n",
       "      <td>1.000000</td>\n",
       "      <td>1.000000e+00</td>\n",
       "    </tr>\n",
       "    <tr>\n",
       "      <th>max</th>\n",
       "      <td>65.000000</td>\n",
       "      <td>1.000000</td>\n",
       "      <td>2.000000e+00</td>\n",
       "    </tr>\n",
       "  </tbody>\n",
       "</table>\n",
       "</div>"
      ],
      "text/plain": [
       "               age      married     happiness\n",
       "count  1300.000000  1300.000000  1.300000e+03\n",
       "mean     33.000000     0.300769 -8.335213e-17\n",
       "std      18.768883     0.458769  1.214421e+00\n",
       "min       1.000000     0.000000 -2.000000e+00\n",
       "25%      17.000000     0.000000 -1.000000e+00\n",
       "50%      33.000000     0.000000 -1.110223e-16\n",
       "75%      49.000000     1.000000  1.000000e+00\n",
       "max      65.000000     1.000000  2.000000e+00"
      ]
     },
     "execution_count": 4,
     "metadata": {},
     "output_type": "execute_result"
    }
   ],
   "source": [
    "import rchitect as R\n",
    "\n",
    "s = \"rethinking::sim_happiness(seed=1977, N_years=1000);\"\n",
    "d = R.reval(s)\n",
    "d = R.rcopy(d)\n",
    "d = pd.DataFrame(d)\n",
    "d.describe()"
   ]
  },
  {
   "cell_type": "markdown",
   "metadata": {},
   "source": [
    "Lets plot the raw simulation data"
   ]
  },
  {
   "cell_type": "code",
   "execution_count": 5,
   "metadata": {},
   "outputs": [
    {
     "data": {
      "image/png": "[encoded data removed]",
      "text/plain": [
       "<Figure size 936x216 with 1 Axes>"
      ]
     },
     "metadata": {
      "needs_background": "light"
     },
     "output_type": "display_data"
    }
   ],
   "source": [
    "fig, ax = plt.subplots(figsize=(13,3))\n",
    "ax.scatter(d[d.married==1]['age'], d[d.married==1]['happiness'], color = COLOR, label = \"married\")\n",
    "ax.scatter(d[d.married==0]['age'], d[d.married==0]['happiness'], facecolor=\"white\", color = COLOR, label = \"unmarried\")\n",
    "ax.set_xlabel(\"age\")\n",
    "ax.set_ylabel(\"happiness\")\n",
    "ax.legend(loc = \"upper left\")\n",
    "fig.suptitle(\"Figure 6.4 - Simulated data\")\n",
    "plt.show()"
   ]
  },
  {
   "cell_type": "markdown",
   "metadata": {},
   "source": [
    "We're going to run the following model to study the relationship between age and happiness. We'll \"control\" for being married and see what happens.\n",
    "\n",
    "First we prep the data in **Python code 6.22**"
   ]
  },
  {
   "cell_type": "code",
   "execution_count": 6,
   "metadata": {},
   "outputs": [
    {
     "data": {
      "text/html": [
       "<div>\n",
       "<style scoped>\n",
       "    .dataframe tbody tr th:only-of-type {\n",
       "        vertical-align: middle;\n",
       "    }\n",
       "\n",
       "    .dataframe tbody tr th {\n",
       "        vertical-align: top;\n",
       "    }\n",
       "\n",
       "    .dataframe thead th {\n",
       "        text-align: right;\n",
       "    }\n",
       "</style>\n",
       "<table border=\"1\" class=\"dataframe\">\n",
       "  <thead>\n",
       "    <tr style=\"text-align: right;\">\n",
       "      <th></th>\n",
       "      <th>N</th>\n",
       "      <th>N_mid</th>\n",
       "      <th>happiness</th>\n",
       "      <th>marriage_id</th>\n",
       "      <th>age</th>\n",
       "    </tr>\n",
       "  </thead>\n",
       "  <tbody>\n",
       "    <tr>\n",
       "      <th>count</th>\n",
       "      <td>960.0</td>\n",
       "      <td>960.0</td>\n",
       "      <td>9.600000e+02</td>\n",
       "      <td>960.000000</td>\n",
       "      <td>960.000000</td>\n",
       "    </tr>\n",
       "    <tr>\n",
       "      <th>mean</th>\n",
       "      <td>960.0</td>\n",
       "      <td>2.0</td>\n",
       "      <td>-1.036208e-16</td>\n",
       "      <td>1.407292</td>\n",
       "      <td>0.500000</td>\n",
       "    </tr>\n",
       "    <tr>\n",
       "      <th>std</th>\n",
       "      <td>0.0</td>\n",
       "      <td>0.0</td>\n",
       "      <td>1.214587e+00</td>\n",
       "      <td>0.491586</td>\n",
       "      <td>0.294907</td>\n",
       "    </tr>\n",
       "    <tr>\n",
       "      <th>min</th>\n",
       "      <td>960.0</td>\n",
       "      <td>2.0</td>\n",
       "      <td>-2.000000e+00</td>\n",
       "      <td>1.000000</td>\n",
       "      <td>0.000000</td>\n",
       "    </tr>\n",
       "    <tr>\n",
       "      <th>25%</th>\n",
       "      <td>960.0</td>\n",
       "      <td>2.0</td>\n",
       "      <td>-1.000000e+00</td>\n",
       "      <td>1.000000</td>\n",
       "      <td>0.250000</td>\n",
       "    </tr>\n",
       "    <tr>\n",
       "      <th>50%</th>\n",
       "      <td>960.0</td>\n",
       "      <td>2.0</td>\n",
       "      <td>-1.110223e-16</td>\n",
       "      <td>1.000000</td>\n",
       "      <td>0.500000</td>\n",
       "    </tr>\n",
       "    <tr>\n",
       "      <th>75%</th>\n",
       "      <td>960.0</td>\n",
       "      <td>2.0</td>\n",
       "      <td>1.000000e+00</td>\n",
       "      <td>2.000000</td>\n",
       "      <td>0.750000</td>\n",
       "    </tr>\n",
       "    <tr>\n",
       "      <th>max</th>\n",
       "      <td>960.0</td>\n",
       "      <td>2.0</td>\n",
       "      <td>2.000000e+00</td>\n",
       "      <td>2.000000</td>\n",
       "      <td>1.000000</td>\n",
       "    </tr>\n",
       "  </tbody>\n",
       "</table>\n",
       "</div>"
      ],
      "text/plain": [
       "           N  N_mid     happiness  marriage_id         age\n",
       "count  960.0  960.0  9.600000e+02   960.000000  960.000000\n",
       "mean   960.0    2.0 -1.036208e-16     1.407292    0.500000\n",
       "std      0.0    0.0  1.214587e+00     0.491586    0.294907\n",
       "min    960.0    2.0 -2.000000e+00     1.000000    0.000000\n",
       "25%    960.0    2.0 -1.000000e+00     1.000000    0.250000\n",
       "50%    960.0    2.0 -1.110223e-16     1.000000    0.500000\n",
       "75%    960.0    2.0  1.000000e+00     2.000000    0.750000\n",
       "max    960.0    2.0  2.000000e+00     2.000000    1.000000"
      ]
     },
     "execution_count": 6,
     "metadata": {},
     "output_type": "execute_result"
    }
   ],
   "source": [
    "d2 = (d[d.age>17]\n",
    "      .assign(A = lambda x: ((x.age-18)/(65-18)))\n",
    "      .assign(mid = lambda x: x.married+1))\n",
    "d_dict = {\n",
    "    \"N\": len(d2.index),\n",
    "    \"N_mid\": 2,\n",
    "    \"happiness\": d2.happiness.values,\n",
    "    \"marriage_id\": d2.mid.values.astype(np.int8),\n",
    "    \"age\": d2.A\n",
    "}\n",
    "pd.DataFrame(d_dict).describe()"
   ]
  },
  {
   "cell_type": "markdown",
   "metadata": {},
   "source": [
    "Here is what our model will look like. Consider the prior for $\\beta$. The largest possible slope is $\\frac{4}{1}$. 95% of mass is within 2 std deviations of the mean. So we'll use Normal(0,2) as our prior.\n",
    "\n",
    "$$\n",
    "happiness \\sim normal(\\mu_i, \\sigma) \\\\\n",
    "\\mu_i = \\alpha_{marriage\\_id[i]} + \\beta * age_i \\\\\n",
    "\\alpha \\sim normal(0,1) \\\\\n",
    "\\beta \\sim normal(0, 2)\n",
    "$$\n",
    "\n"
   ]
  },
  {
   "cell_type": "code",
   "execution_count": 7,
   "metadata": {},
   "outputs": [
    {
     "name": "stderr",
     "output_type": "stream",
     "text": [
      "INFO:pystan:COMPILING THE C++ CODE FOR MODEL m6_9_c608feefc09edcadf78a178de16a4088 NOW.\n"
     ]
    },
    {
     "name": "stdout",
     "output_type": "stream",
     "text": [
      "Creating pystan model & assigning it to variable name \"m6_9\".\n",
      "Stan options:\n",
      " {'model_name': 'm6_9', 'include_paths': None, 'boost_lib': None, 'eigen_lib': None, 'verbose': False, 'obfuscate_model_name': True}\n",
      "StanModel now available as variable \"m6_9\"!\n",
      "Compilation took 45 seconds.\n"
     ]
    }
   ],
   "source": [
    "%%stan m6_9\n",
    "data {\n",
    "  int N;\n",
    "  int N_mid;\n",
    "  vector[N] happiness;\n",
    "  int marriage_id[N];\n",
    "  vector[N] age;\n",
    "}\n",
    "parameters {\n",
    "  vector[N_mid] alpha;\n",
    "  real beta1;\n",
    "  real<lower=0> sigma;\n",
    "}\n",
    "model {\n",
    "  alpha ~ normal(0, 1);\n",
    "  beta1 ~ normal(0, 2);\n",
    "  sigma ~ exponential(1);\n",
    "  \n",
    "  for (i in 1:N) {\n",
    "    happiness[i] ~ normal(alpha[marriage_id[i]] + beta1*age[i], sigma);\n",
    "  }\n",
    "}"
   ]
  },
  {
   "cell_type": "code",
   "execution_count": 8,
   "metadata": {},
   "outputs": [
    {
     "data": {
      "image/png": "[encoded data removed]",
      "text/plain": [
       "<Figure size 936x216 with 1 Axes>"
      ]
     },
     "metadata": {
      "needs_background": "light"
     },
     "output_type": "display_data"
    }
   ],
   "source": [
    "fit_m6_9 = m6_9.sampling(d_dict)\n",
    "fig, ax = plt.subplots(figsize=(13,3))\n",
    "ax.hist(fit_m6_9.extract()[\"beta1\"], bins = 30, color = \"black\")\n",
    "ax.set_yticks([])\n",
    "ax.set_xlabel(\"Effect of age on happiness after contolling for marriage status\")\n",
    "ax.set_title(\"Age is negatively associated with happiness\")\n",
    "plt.show()"
   ]
  },
  {
   "cell_type": "code",
   "execution_count": 9,
   "metadata": {},
   "outputs": [
    {
     "name": "stderr",
     "output_type": "stream",
     "text": [
      "INFO:pystan:COMPILING THE C++ CODE FOR MODEL m6_10_856ddfbb569133673bae43d3dbc3dc4c NOW.\n"
     ]
    },
    {
     "name": "stdout",
     "output_type": "stream",
     "text": [
      "Creating pystan model & assigning it to variable name \"m6_10\".\n",
      "Stan options:\n",
      " {'model_name': 'm6_10', 'include_paths': None, 'boost_lib': None, 'eigen_lib': None, 'verbose': False, 'obfuscate_model_name': True}\n",
      "StanModel now available as variable \"m6_10\"!\n",
      "Compilation took 37 seconds.\n"
     ]
    }
   ],
   "source": [
    "%%stan m6_10\n",
    "data {\n",
    "  int N;\n",
    "  int N_mid;\n",
    "  vector[N] happiness;\n",
    "  int marriage_id[N];\n",
    "  vector[N] age;\n",
    "}\n",
    "parameters {\n",
    "  real alpha;\n",
    "  real beta1;\n",
    "  real<lower=0> sigma;\n",
    "}\n",
    "model {\n",
    "  alpha ~ normal(0, 1);\n",
    "  beta1 ~ normal(0, 2);\n",
    "  sigma ~ exponential(1);\n",
    "  \n",
    "  for (i in 1:N) {\n",
    "    happiness[i] ~ normal(alpha + beta1*age[i], sigma);\n",
    "  }\n",
    "}"
   ]
  },
  {
   "cell_type": "code",
   "execution_count": 10,
   "metadata": {},
   "outputs": [
    {
     "data": {
      "image/png": "[encoded data removed]",
      "text/plain": [
       "<Figure size 936x216 with 1 Axes>"
      ]
     },
     "metadata": {
      "needs_background": "light"
     },
     "output_type": "display_data"
    }
   ],
   "source": [
    "fit_m6_10 = m6_10.sampling(d_dict)\n",
    "fig, ax = plt.subplots(figsize=(13,3))\n",
    "ax.hist(fit_m6_10.extract()[\"beta1\"], bins = 30, color = \"black\")\n",
    "ax.set_yticks([])\n",
    "ax.set_xlabel(\"Effect of age on happiness\")\n",
    "ax.set_title(\"There is no association between age and happiness\")\n",
    "plt.show()"
   ]
  },
  {
   "cell_type": "markdown",
   "metadata": {},
   "source": [
    "Unboservables can create colliders. We'll simulate the following dag, where U is an observable and we are interested in the effects of G and P on C, to show this.\n",
    "```\n",
    "G->P\n",
    "G->C\n",
    "p->C\n",
    "P<-U->C\n",
    "```\n",
    "\n",
    "Running the regression without U biases our estimates."
   ]
  },
  {
   "cell_type": "code",
   "execution_count": 11,
   "metadata": {},
   "outputs": [],
   "source": [
    "N = 200\n",
    "# Make up some relationships\n",
    "b_GP = 1\n",
    "b_GC = 0\n",
    "b_PC = 1\n",
    "b_U = 2\n",
    "#Play the dag forward\n",
    "U = 2*stats.bernoulli.rvs(.5, size = N)-1\n",
    "G = stats.norm.rvs(0, 1, size = N)\n",
    "P = stats.norm.rvs(b_GP*G + b_U*U, 1)\n",
    "C = stats.norm.rvs(b_PC*P + b_GC*G + b_U*U)\n",
    "dlist = {\n",
    "    \"N\":N,\n",
    "    \"U\":U,\n",
    "    \"G\":G,\n",
    "    \"P\":P,\n",
    "    \"C\":C\n",
    "}"
   ]
  },
  {
   "cell_type": "code",
   "execution_count": 12,
   "metadata": {},
   "outputs": [
    {
     "name": "stderr",
     "output_type": "stream",
     "text": [
      "INFO:pystan:COMPILING THE C++ CODE FOR MODEL m6_11_b50b9962adda5b57e46cf853c7b3b59a NOW.\n"
     ]
    },
    {
     "name": "stdout",
     "output_type": "stream",
     "text": [
      "Creating pystan model & assigning it to variable name \"m6_11\".\n",
      "Stan options:\n",
      " {'model_name': 'm6_11', 'include_paths': None, 'boost_lib': None, 'eigen_lib': None, 'verbose': False, 'obfuscate_model_name': True}\n",
      "StanModel now available as variable \"m6_11\"!\n",
      "Compilation took 37 seconds.\n"
     ]
    }
   ],
   "source": [
    "%%stan m6_11\n",
    "data {\n",
    "  int N;\n",
    "  int U[N];\n",
    "  vector[N] G;\n",
    "  vector[N] P;\n",
    "  vector[N] C;\n",
    "}\n",
    "parameters {\n",
    "  real a;\n",
    "  real b_PC;\n",
    "  real b_GC;\n",
    "  real<lower=0> sigma;\n",
    "}\n",
    "model {\n",
    "  vector[N] mu;\n",
    "  a ~ normal(0, 1);\n",
    "  b_PC ~ normal(0, 1);\n",
    "  b_GC ~ normal(0, 1);\n",
    "  mu = a + b_PC*P + b_GC*G;\n",
    "  C ~ normal(mu, sigma);\n",
    "}"
   ]
  },
  {
   "cell_type": "code",
   "execution_count": 13,
   "metadata": {},
   "outputs": [
    {
     "data": {
      "image/png": "[encoded data removed]",
      "text/plain": [
       "<Figure size 864x216 with 1 Axes>"
      ]
     },
     "metadata": {
      "needs_background": "light"
     },
     "output_type": "display_data"
    }
   ],
   "source": [
    "fit_6_11 = m6_11.sampling(dlist)\n",
    "fig, ax = plt.subplots(figsize=(12, 3))\n",
    "az.plot_forest(fit_6_11.extract(['b_PC', 'b_GC']), ax=ax)\n",
    "ax.scatter(b_GC, \"b_GC\", color=COLOR)\n",
    "ax.scatter(b_PC, \"b_PC\", color=COLOR)\n",
    "plt.show()"
   ]
  },
  {
   "cell_type": "code",
   "execution_count": 14,
   "metadata": {},
   "outputs": [
    {
     "name": "stderr",
     "output_type": "stream",
     "text": [
      "INFO:pystan:COMPILING THE C++ CODE FOR MODEL m6_12_13c8349c0e4c96ea797a23d3c6b6e443 NOW.\n"
     ]
    },
    {
     "name": "stdout",
     "output_type": "stream",
     "text": [
      "Creating pystan model & assigning it to variable name \"m6_12\".\n",
      "Stan options:\n",
      " {'model_name': 'm6_12', 'include_paths': None, 'boost_lib': None, 'eigen_lib': None, 'verbose': False, 'obfuscate_model_name': True}\n",
      "StanModel now available as variable \"m6_12\"!\n",
      "Compilation took 38 seconds.\n"
     ]
    }
   ],
   "source": [
    "%%stan m6_12\n",
    "data {\n",
    "  int N;\n",
    "  vector[N] U;\n",
    "  vector[N] G;\n",
    "  vector[N] P;\n",
    "  vector[N] C;\n",
    "}\n",
    "parameters {\n",
    "  real a;\n",
    "  real b_PC;\n",
    "  real b_GC;\n",
    "  real b_U;\n",
    "  real<lower=0> sigma;\n",
    "}\n",
    "model {\n",
    "  vector[N] mu;\n",
    "  a ~ normal(0, 1);\n",
    "  b_PC ~ normal(0, 1);\n",
    "  b_GC ~ normal(0, 1);\n",
    "  b_U ~ normal(0, 1);\n",
    "  mu = a + b_PC*P + b_GC*G + b_U*U;\n",
    "  C ~ normal(mu, sigma);\n",
    "}"
   ]
  },
  {
   "cell_type": "code",
   "execution_count": 15,
   "metadata": {},
   "outputs": [
    {
     "data": {
      "image/png": "[encoded data removed]",
      "text/plain": [
       "<Figure size 864x216 with 1 Axes>"
      ]
     },
     "metadata": {
      "needs_background": "light"
     },
     "output_type": "display_data"
    }
   ],
   "source": [
    "fit_6_12 = m6_12.sampling(dlist)\n",
    "fig, ax = plt.subplots(figsize=(12, 3))\n",
    "az.plot_forest(fit_6_12.extract(['b_PC', 'b_GC', 'b_U']), ax=ax)\n",
    "ax.axvline(b_GC,color=COLOR)\n",
    "ax.axvline(b_PC,color=COLOR)\n",
    "ax.axvline(b_U, color=COLOR)\n",
    "plt.show()"
   ]
  },
  {
   "cell_type": "markdown",
   "metadata": {},
   "source": [
    "Including the variation in C that comes from G and P zaps the variation that comes from them. Whats left? The variation from U. If I already know P, what does G tell us? Well, within a given P, the difference in G screams the effect of U. The following plot shows us this."
   ]
  },
  {
   "cell_type": "code",
   "execution_count": 16,
   "metadata": {},
   "outputs": [
    {
     "data": {
      "image/png": "[encoded data removed]",
      "text/plain": [
       "<Figure size 936x216 with 1 Axes>"
      ]
     },
     "metadata": {
      "needs_background": "light"
     },
     "output_type": "display_data"
    }
   ],
   "source": [
    "q = np.quantile(P, [.45, .6])\n",
    "ps = np.logical_and(P>q[0],  P<q[1])\n",
    "psg = np.logical_and(ps, U==1)\n",
    "psb = np.logical_and(ps, U==-1)\n",
    "xseq = np.linspace(-3, 3, 1000)\n",
    "mod = np.polyfit(G[ps], C[ps], 1)\n",
    "\n",
    "fig, ax = plt.subplots(figsize=(13,3))\n",
    "ax.scatter(G[U==-1], C[U==-1], facecolor=\"white\", color = \"black\")\n",
    "ax.scatter(G[U==1], C[U==1], facecolor=\"white\", color = \"blue\")\n",
    "ax.scatter(G[psg], C[psg], color = \"blue\", label = \"Good Neighborhoods\")\n",
    "ax.scatter(G[psb], C[psb], color = \"black\", label = \"Bad Neighborhoods\")\n",
    "predict = np.poly1d(mod)\n",
    "ax.plot(xseq, predict(xseq), color = \"black\")\n",
    "ax.set_xlabel(\"grandparent education (G)\")\n",
    "ax.set_ylabel(\"grandchild education (C)\")\n",
    "fig.suptitle(\"Figure 6.5 - Isolating parents in 45th to 60th centiles generate a misleading trend\")\n",
    "ax.legend()\n",
    "plt.show()"
   ]
  },
  {
   "cell_type": "markdown",
   "metadata": {},
   "source": [
    "# 6.4 - Confronting Confounding"
   ]
  }
 ],
 "metadata": {
  "kernelspec": {
   "display_name": "Python 3",
   "language": "python",
   "name": "python3"
  },
  "language_info": {
   "codemirror_mode": {
    "name": "ipython",
    "version": 3
   },
   "file_extension": ".py",
   "mimetype": "text/x-python",
   "name": "python",
   "nbconvert_exporter": "python",
   "pygments_lexer": "ipython3",
   "version": "3.6.9"
  }
 },
 "nbformat": 4,
 "nbformat_minor": 4
}
